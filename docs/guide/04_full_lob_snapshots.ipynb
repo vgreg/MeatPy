{
 "cells": [
  {
   "cell_type": "markdown",
   "metadata": {},
   "source": [
    "# Full Limit Order Book Snapshots at One-Minute Intervals\n",
    "\n",
    "This notebook demonstrates how to capture complete limit order book depth at regular intervals from ITCH 5.0 data.\n",
    "\n",
    "Full LOB snapshots capture all orders for multiple price levels on both bid and ask sides, providing complete market depth information.\n",
    "\n",
    "This example uses the `S081321-v50-AAPL-SPY.itch50.gz` file generated in the [Extracting Symbols](02_extracting_symbols.ipynb) example."
   ]
  },
  {
   "cell_type": "code",
   "execution_count": 1,
   "metadata": {},
   "outputs": [],
   "source": [
    "from pathlib import Path\n",
    "import datetime\n",
    "import pandas as pd\n",
    "from meatpy.itch50 import ITCH50MessageReader, ITCH50MarketProcessor\n",
    "from meatpy.event_handlers.lob_recorder import LOBRecorder\n",
    "from meatpy.writers.parquet_writer import ParquetWriter\n",
    "\n",
    "# Define paths and parameters\n",
    "data_dir = Path(\"data\")\n",
    "\n",
    "file_path = data_dir / \"S081321-v50-AAPL-SPY.itch50.gz\"\n",
    "outfile_path = data_dir / \"spy_lob.parquet\"\n",
    "\n",
    "\n",
    "\n",
    "processor = ITCH50MarketProcessor(\"SPY\", datetime.date(2021, 8, 13))\n",
    "\n",
    "writer = ParquetWriter(outfile_path)\n",
    "\n",
    "# We want all order, including their are.\n",
    "lob_recorder = LOBRecorder(writer=writer, collapse_orders=False, show_age=True)\n",
    "# We only want every minute. Nasdaq timestamps are in nanoseconds since 12am.\n",
    "seconds_range = [x * 1_000_000_000 for x in range(34_130, 57_730 + 1, 60)]\n",
    "lob_recorder.record_timestamps = seconds_range\n",
    "\n",
    "# Attach the recorders to the processor\n",
    "processor.handlers.append(lob_recorder)"
   ]
  },
  {
   "cell_type": "code",
   "execution_count": 2,
   "metadata": {},
   "outputs": [
    {
     "ename": "KeyboardInterrupt",
     "evalue": "",
     "output_type": "error",
     "traceback": [
      "\u001b[31m---------------------------------------------------------------------------\u001b[39m",
      "\u001b[31mKeyboardInterrupt\u001b[39m                         Traceback (most recent call last)",
      "\u001b[36mCell\u001b[39m\u001b[36m \u001b[39m\u001b[32mIn[2]\u001b[39m\u001b[32m, line 3\u001b[39m\n\u001b[32m      1\u001b[39m \u001b[38;5;28;01mwith\u001b[39;00m ITCH50MessageReader(file_path) \u001b[38;5;28;01mas\u001b[39;00m reader:\n\u001b[32m      2\u001b[39m     \u001b[38;5;28;01mfor\u001b[39;00m message \u001b[38;5;129;01min\u001b[39;00m reader:\n\u001b[32m----> \u001b[39m\u001b[32m3\u001b[39m         \u001b[43mprocessor\u001b[49m\u001b[43m.\u001b[49m\u001b[43mprocess_message\u001b[49m\u001b[43m(\u001b[49m\u001b[43mmessage\u001b[49m\u001b[43m)\u001b[49m\n\u001b[32m      4\u001b[39m writer.close()\n",
      "\u001b[36mFile \u001b[39m\u001b[32m~/Documents/GitHub/MeatPy/src/meatpy/itch50/itch50_market_processor.py:155\u001b[39m, in \u001b[36mITCH50MarketProcessor.process_message\u001b[39m\u001b[34m(self, message, new_snapshot)\u001b[39m\n\u001b[32m    151\u001b[39m         \u001b[38;5;28;01melse\u001b[39;00m:\n\u001b[32m    152\u001b[39m             \u001b[38;5;28;01mraise\u001b[39;00m InvalidBuySellIndicatorError(\n\u001b[32m    153\u001b[39m                 \u001b[33mf\u001b[39m\u001b[33m\"\u001b[39m\u001b[33mWrong value for bsindicator: \u001b[39m\u001b[38;5;132;01m{\u001b[39;00mmessage.bsindicator\u001b[38;5;132;01m}\u001b[39;00m\u001b[33m\"\u001b[39m\n\u001b[32m    154\u001b[39m             )\n\u001b[32m--> \u001b[39m\u001b[32m155\u001b[39m         \u001b[38;5;28;43mself\u001b[39;49m\u001b[43m.\u001b[49m\u001b[43mpre_lob_event\u001b[49m\u001b[43m(\u001b[49m\u001b[43mtimestamp\u001b[49m\u001b[43m)\u001b[49m\n\u001b[32m    156\u001b[39m         \u001b[38;5;28mself\u001b[39m.enter_quote(\n\u001b[32m    157\u001b[39m             timestamp=timestamp,\n\u001b[32m    158\u001b[39m             price=message.price,\n\u001b[32m   (...)\u001b[39m\u001b[32m    161\u001b[39m             order_type=order_type,\n\u001b[32m    162\u001b[39m         )\n\u001b[32m    163\u001b[39m \u001b[38;5;28;01melif\u001b[39;00m \u001b[38;5;28misinstance\u001b[39m(message, OrderExecutedMessage):\n",
      "\u001b[36mFile \u001b[39m\u001b[32m~/Documents/GitHub/MeatPy/src/meatpy/market_processor.py:269\u001b[39m, in \u001b[36mMarketProcessor.pre_lob_event\u001b[39m\u001b[34m(self, timestamp, new_snapshot)\u001b[39m\n\u001b[32m    265\u001b[39m     \u001b[38;5;28mself\u001b[39m.current_lob = LimitOrderBook[\n\u001b[32m    266\u001b[39m         Price, Volume, OrderID, TradeRef, Qualifiers\n\u001b[32m    267\u001b[39m     ](timestamp)\n\u001b[32m    268\u001b[39m \u001b[38;5;28;01melif\u001b[39;00m new_snapshot \u001b[38;5;129;01mis\u001b[39;00m \u001b[38;5;28;01mTrue\u001b[39;00m:\n\u001b[32m--> \u001b[39m\u001b[32m269\u001b[39m     \u001b[38;5;28;43mself\u001b[39;49m\u001b[43m.\u001b[49m\u001b[43mbefore_lob_update\u001b[49m\u001b[43m(\u001b[49m\u001b[43mtimestamp\u001b[49m\u001b[43m)\u001b[49m\n\u001b[32m    270\u001b[39m     \u001b[38;5;28;01mif\u001b[39;00m \u001b[38;5;28mself\u001b[39m.current_lob.timestamp == timestamp:\n\u001b[32m    271\u001b[39m         \u001b[38;5;28mself\u001b[39m.current_lob.timestamp_inc += \u001b[32m1\u001b[39m\n",
      "\u001b[36mFile \u001b[39m\u001b[32m~/Documents/GitHub/MeatPy/src/meatpy/market_processor.py:78\u001b[39m, in \u001b[36mMarketProcessor.before_lob_update\u001b[39m\u001b[34m(self, new_timestamp)\u001b[39m\n\u001b[32m     72\u001b[39m \u001b[38;5;250m\u001b[39m\u001b[33;03m\"\"\"Notify handlers before a limit order book update.\u001b[39;00m\n\u001b[32m     73\u001b[39m \n\u001b[32m     74\u001b[39m \u001b[33;03mArgs:\u001b[39;00m\n\u001b[32m     75\u001b[39m \u001b[33;03m    new_timestamp: The new timestamp for the upcoming update\u001b[39;00m\n\u001b[32m     76\u001b[39m \u001b[33;03m\"\"\"\u001b[39;00m\n\u001b[32m     77\u001b[39m \u001b[38;5;28;01mfor\u001b[39;00m x \u001b[38;5;129;01min\u001b[39;00m \u001b[38;5;28mself\u001b[39m.handlers:\n\u001b[32m---> \u001b[39m\u001b[32m78\u001b[39m     \u001b[43mx\u001b[49m\u001b[43m.\u001b[49m\u001b[43mbefore_lob_update\u001b[49m\u001b[43m(\u001b[49m\u001b[38;5;28;43mself\u001b[39;49m\u001b[43m,\u001b[49m\u001b[43m \u001b[49m\u001b[43mnew_timestamp\u001b[49m\u001b[43m)\u001b[49m\n",
      "\u001b[36mFile \u001b[39m\u001b[32m~/Documents/GitHub/MeatPy/src/meatpy/event_handlers/lob_event_recorder.py:156\u001b[39m, in \u001b[36mLOBEventRecorder.before_lob_update\u001b[39m\u001b[34m(self, market_processor, new_timestamp)\u001b[39m\n\u001b[32m    151\u001b[39m     \u001b[38;5;28;01mwhile\u001b[39;00m (\n\u001b[32m    152\u001b[39m         \u001b[38;5;28mlen\u001b[39m(\u001b[38;5;28mself\u001b[39m.record_timestamps) > \u001b[32m0\u001b[39m\n\u001b[32m    153\u001b[39m         \u001b[38;5;129;01mand\u001b[39;00m new_timestamp > \u001b[38;5;28mself\u001b[39m.record_timestamps[\u001b[32m0\u001b[39m]\n\u001b[32m    154\u001b[39m     ):\n\u001b[32m    155\u001b[39m         record_timestamp = \u001b[38;5;28mself\u001b[39m.record_timestamps.pop(\u001b[32m0\u001b[39m)\n\u001b[32m--> \u001b[39m\u001b[32m156\u001b[39m         \u001b[38;5;28;43mself\u001b[39;49m\u001b[43m.\u001b[49m\u001b[43mrecord\u001b[49m\u001b[43m(\u001b[49m\u001b[43mlob\u001b[49m\u001b[43m,\u001b[49m\u001b[43m \u001b[49m\u001b[43mrecord_timestamp\u001b[49m\u001b[43m)\u001b[49m\n\u001b[32m    158\u001b[39m \u001b[38;5;28;01mif\u001b[39;00m \u001b[38;5;28mself\u001b[39m.write_csv_during_recording \u001b[38;5;129;01mis\u001b[39;00m \u001b[38;5;28;01mTrue\u001b[39;00m \u001b[38;5;129;01mand\u001b[39;00m \u001b[38;5;28mself\u001b[39m.buffer_size < \u001b[38;5;28mlen\u001b[39m(\n\u001b[32m    159\u001b[39m     \u001b[38;5;28mself\u001b[39m.records\n\u001b[32m    160\u001b[39m ):\n\u001b[32m    161\u001b[39m     \u001b[38;5;28mself\u001b[39m.write_buffer()\n",
      "\u001b[36mFile \u001b[39m\u001b[32m~/Documents/GitHub/MeatPy/src/meatpy/event_handlers/lob_recorder.py:51\u001b[39m, in \u001b[36mLOBRecorder.record\u001b[39m\u001b[34m(self, lob, record_timestamp)\u001b[39m\n\u001b[32m     44\u001b[39m \u001b[38;5;28;01mdef\u001b[39;00m\u001b[38;5;250m \u001b[39m\u001b[34mrecord\u001b[39m(\u001b[38;5;28mself\u001b[39m, lob: LimitOrderBook, record_timestamp=\u001b[38;5;28;01mNone\u001b[39;00m):\n\u001b[32m     45\u001b[39m \u001b[38;5;250m    \u001b[39m\u001b[33;03m\"\"\"Record a snapshot of the limit order book.\u001b[39;00m\n\u001b[32m     46\u001b[39m \n\u001b[32m     47\u001b[39m \u001b[33;03m    Args:\u001b[39;00m\n\u001b[32m     48\u001b[39m \u001b[33;03m        lob: The current limit order book\u001b[39;00m\n\u001b[32m     49\u001b[39m \u001b[33;03m        record_timestamp: Optional timestamp to override\u001b[39;00m\n\u001b[32m     50\u001b[39m \u001b[33;03m    \"\"\"\u001b[39;00m\n\u001b[32m---> \u001b[39m\u001b[32m51\u001b[39m     new_record = \u001b[43mlob\u001b[49m\u001b[43m.\u001b[49m\u001b[43mcopy\u001b[49m\u001b[43m(\u001b[49m\u001b[43mmax_level\u001b[49m\u001b[43m=\u001b[49m\u001b[38;5;28;43mself\u001b[39;49m\u001b[43m.\u001b[49m\u001b[43mmax_depth\u001b[49m\u001b[43m)\u001b[49m\n\u001b[32m     52\u001b[39m     \u001b[38;5;28;01mif\u001b[39;00m record_timestamp \u001b[38;5;129;01mis\u001b[39;00m \u001b[38;5;129;01mnot\u001b[39;00m \u001b[38;5;28;01mNone\u001b[39;00m:\n\u001b[32m     53\u001b[39m         new_record.timestamp = record_timestamp\n",
      "\u001b[36mFile \u001b[39m\u001b[32m~/Documents/GitHub/MeatPy/src/meatpy/lob.py:161\u001b[39m, in \u001b[36mLimitOrderBook.copy\u001b[39m\u001b[34m(self, max_level)\u001b[39m\n\u001b[32m    159\u001b[39m new_lob.decimals_adj = \u001b[38;5;28mself\u001b[39m.decimals_adj\n\u001b[32m    160\u001b[39m \u001b[38;5;28;01mif\u001b[39;00m max_level \u001b[38;5;129;01mis\u001b[39;00m \u001b[38;5;28;01mNone\u001b[39;00m:\n\u001b[32m--> \u001b[39m\u001b[32m161\u001b[39m     new_lob.ask_levels = \u001b[43mdeepcopy\u001b[49m\u001b[43m(\u001b[49m\u001b[38;5;28;43mself\u001b[39;49m\u001b[43m.\u001b[49m\u001b[43mask_levels\u001b[49m\u001b[43m)\u001b[49m\n\u001b[32m    162\u001b[39m     new_lob.bid_levels = deepcopy(\u001b[38;5;28mself\u001b[39m.bid_levels)\n\u001b[32m    163\u001b[39m \u001b[38;5;28;01melse\u001b[39;00m:\n",
      "\u001b[36mFile \u001b[39m\u001b[32m~/.local/share/uv/python/cpython-3.13.0-macos-aarch64-none/lib/python3.13/copy.py:137\u001b[39m, in \u001b[36mdeepcopy\u001b[39m\u001b[34m(x, memo, _nil)\u001b[39m\n\u001b[32m    135\u001b[39m copier = _deepcopy_dispatch.get(\u001b[38;5;28mcls\u001b[39m)\n\u001b[32m    136\u001b[39m \u001b[38;5;28;01mif\u001b[39;00m copier \u001b[38;5;129;01mis\u001b[39;00m \u001b[38;5;129;01mnot\u001b[39;00m \u001b[38;5;28;01mNone\u001b[39;00m:\n\u001b[32m--> \u001b[39m\u001b[32m137\u001b[39m     y = \u001b[43mcopier\u001b[49m\u001b[43m(\u001b[49m\u001b[43mx\u001b[49m\u001b[43m,\u001b[49m\u001b[43m \u001b[49m\u001b[43mmemo\u001b[49m\u001b[43m)\u001b[49m\n\u001b[32m    138\u001b[39m \u001b[38;5;28;01melse\u001b[39;00m:\n\u001b[32m    139\u001b[39m     \u001b[38;5;28;01mif\u001b[39;00m \u001b[38;5;28missubclass\u001b[39m(\u001b[38;5;28mcls\u001b[39m, \u001b[38;5;28mtype\u001b[39m):\n",
      "\u001b[36mFile \u001b[39m\u001b[32m~/.local/share/uv/python/cpython-3.13.0-macos-aarch64-none/lib/python3.13/copy.py:197\u001b[39m, in \u001b[36m_deepcopy_list\u001b[39m\u001b[34m(x, memo, deepcopy)\u001b[39m\n\u001b[32m    195\u001b[39m append = y.append\n\u001b[32m    196\u001b[39m \u001b[38;5;28;01mfor\u001b[39;00m a \u001b[38;5;129;01min\u001b[39;00m x:\n\u001b[32m--> \u001b[39m\u001b[32m197\u001b[39m     append(\u001b[43mdeepcopy\u001b[49m\u001b[43m(\u001b[49m\u001b[43ma\u001b[49m\u001b[43m,\u001b[49m\u001b[43m \u001b[49m\u001b[43mmemo\u001b[49m\u001b[43m)\u001b[49m)\n\u001b[32m    198\u001b[39m \u001b[38;5;28;01mreturn\u001b[39;00m y\n",
      "\u001b[36mFile \u001b[39m\u001b[32m~/.local/share/uv/python/cpython-3.13.0-macos-aarch64-none/lib/python3.13/copy.py:163\u001b[39m, in \u001b[36mdeepcopy\u001b[39m\u001b[34m(x, memo, _nil)\u001b[39m\n\u001b[32m    161\u001b[39m                 y = x\n\u001b[32m    162\u001b[39m             \u001b[38;5;28;01melse\u001b[39;00m:\n\u001b[32m--> \u001b[39m\u001b[32m163\u001b[39m                 y = \u001b[43m_reconstruct\u001b[49m\u001b[43m(\u001b[49m\u001b[43mx\u001b[49m\u001b[43m,\u001b[49m\u001b[43m \u001b[49m\u001b[43mmemo\u001b[49m\u001b[43m,\u001b[49m\u001b[43m \u001b[49m\u001b[43m*\u001b[49m\u001b[43mrv\u001b[49m\u001b[43m)\u001b[49m\n\u001b[32m    165\u001b[39m \u001b[38;5;66;03m# If is its own copy, don't memoize.\u001b[39;00m\n\u001b[32m    166\u001b[39m \u001b[38;5;28;01mif\u001b[39;00m y \u001b[38;5;129;01mis\u001b[39;00m \u001b[38;5;129;01mnot\u001b[39;00m x:\n",
      "\u001b[36mFile \u001b[39m\u001b[32m~/.local/share/uv/python/cpython-3.13.0-macos-aarch64-none/lib/python3.13/copy.py:260\u001b[39m, in \u001b[36m_reconstruct\u001b[39m\u001b[34m(x, memo, func, args, state, listiter, dictiter, deepcopy)\u001b[39m\n\u001b[32m    258\u001b[39m \u001b[38;5;28;01mif\u001b[39;00m state \u001b[38;5;129;01mis\u001b[39;00m \u001b[38;5;129;01mnot\u001b[39;00m \u001b[38;5;28;01mNone\u001b[39;00m:\n\u001b[32m    259\u001b[39m     \u001b[38;5;28;01mif\u001b[39;00m deep:\n\u001b[32m--> \u001b[39m\u001b[32m260\u001b[39m         state = \u001b[43mdeepcopy\u001b[49m\u001b[43m(\u001b[49m\u001b[43mstate\u001b[49m\u001b[43m,\u001b[49m\u001b[43m \u001b[49m\u001b[43mmemo\u001b[49m\u001b[43m)\u001b[49m\n\u001b[32m    261\u001b[39m     \u001b[38;5;28;01mif\u001b[39;00m \u001b[38;5;28mhasattr\u001b[39m(y, \u001b[33m'\u001b[39m\u001b[33m__setstate__\u001b[39m\u001b[33m'\u001b[39m):\n\u001b[32m    262\u001b[39m         y.__setstate__(state)\n",
      "\u001b[36mFile \u001b[39m\u001b[32m~/.local/share/uv/python/cpython-3.13.0-macos-aarch64-none/lib/python3.13/copy.py:137\u001b[39m, in \u001b[36mdeepcopy\u001b[39m\u001b[34m(x, memo, _nil)\u001b[39m\n\u001b[32m    135\u001b[39m copier = _deepcopy_dispatch.get(\u001b[38;5;28mcls\u001b[39m)\n\u001b[32m    136\u001b[39m \u001b[38;5;28;01mif\u001b[39;00m copier \u001b[38;5;129;01mis\u001b[39;00m \u001b[38;5;129;01mnot\u001b[39;00m \u001b[38;5;28;01mNone\u001b[39;00m:\n\u001b[32m--> \u001b[39m\u001b[32m137\u001b[39m     y = \u001b[43mcopier\u001b[49m\u001b[43m(\u001b[49m\u001b[43mx\u001b[49m\u001b[43m,\u001b[49m\u001b[43m \u001b[49m\u001b[43mmemo\u001b[49m\u001b[43m)\u001b[49m\n\u001b[32m    138\u001b[39m \u001b[38;5;28;01melse\u001b[39;00m:\n\u001b[32m    139\u001b[39m     \u001b[38;5;28;01mif\u001b[39;00m \u001b[38;5;28missubclass\u001b[39m(\u001b[38;5;28mcls\u001b[39m, \u001b[38;5;28mtype\u001b[39m):\n",
      "\u001b[36mFile \u001b[39m\u001b[32m~/.local/share/uv/python/cpython-3.13.0-macos-aarch64-none/lib/python3.13/copy.py:222\u001b[39m, in \u001b[36m_deepcopy_dict\u001b[39m\u001b[34m(x, memo, deepcopy)\u001b[39m\n\u001b[32m    220\u001b[39m memo[\u001b[38;5;28mid\u001b[39m(x)] = y\n\u001b[32m    221\u001b[39m \u001b[38;5;28;01mfor\u001b[39;00m key, value \u001b[38;5;129;01min\u001b[39;00m x.items():\n\u001b[32m--> \u001b[39m\u001b[32m222\u001b[39m     y[deepcopy(key, memo)] = \u001b[43mdeepcopy\u001b[49m\u001b[43m(\u001b[49m\u001b[43mvalue\u001b[49m\u001b[43m,\u001b[49m\u001b[43m \u001b[49m\u001b[43mmemo\u001b[49m\u001b[43m)\u001b[49m\n\u001b[32m    223\u001b[39m \u001b[38;5;28;01mreturn\u001b[39;00m y\n",
      "\u001b[36mFile \u001b[39m\u001b[32m~/.local/share/uv/python/cpython-3.13.0-macos-aarch64-none/lib/python3.13/copy.py:137\u001b[39m, in \u001b[36mdeepcopy\u001b[39m\u001b[34m(x, memo, _nil)\u001b[39m\n\u001b[32m    135\u001b[39m copier = _deepcopy_dispatch.get(\u001b[38;5;28mcls\u001b[39m)\n\u001b[32m    136\u001b[39m \u001b[38;5;28;01mif\u001b[39;00m copier \u001b[38;5;129;01mis\u001b[39;00m \u001b[38;5;129;01mnot\u001b[39;00m \u001b[38;5;28;01mNone\u001b[39;00m:\n\u001b[32m--> \u001b[39m\u001b[32m137\u001b[39m     y = \u001b[43mcopier\u001b[49m\u001b[43m(\u001b[49m\u001b[43mx\u001b[49m\u001b[43m,\u001b[49m\u001b[43m \u001b[49m\u001b[43mmemo\u001b[49m\u001b[43m)\u001b[49m\n\u001b[32m    138\u001b[39m \u001b[38;5;28;01melse\u001b[39;00m:\n\u001b[32m    139\u001b[39m     \u001b[38;5;28;01mif\u001b[39;00m \u001b[38;5;28missubclass\u001b[39m(\u001b[38;5;28mcls\u001b[39m, \u001b[38;5;28mtype\u001b[39m):\n",
      "\u001b[36mFile \u001b[39m\u001b[32m~/.local/share/uv/python/cpython-3.13.0-macos-aarch64-none/lib/python3.13/copy.py:197\u001b[39m, in \u001b[36m_deepcopy_list\u001b[39m\u001b[34m(x, memo, deepcopy)\u001b[39m\n\u001b[32m    195\u001b[39m append = y.append\n\u001b[32m    196\u001b[39m \u001b[38;5;28;01mfor\u001b[39;00m a \u001b[38;5;129;01min\u001b[39;00m x:\n\u001b[32m--> \u001b[39m\u001b[32m197\u001b[39m     \u001b[43mappend\u001b[49m\u001b[43m(\u001b[49m\u001b[43mdeepcopy\u001b[49m\u001b[43m(\u001b[49m\u001b[43ma\u001b[49m\u001b[43m,\u001b[49m\u001b[43m \u001b[49m\u001b[43mmemo\u001b[49m\u001b[43m)\u001b[49m\u001b[43m)\u001b[49m\n\u001b[32m    198\u001b[39m \u001b[38;5;28;01mreturn\u001b[39;00m y\n",
      "\u001b[31mKeyboardInterrupt\u001b[39m: "
     ]
    }
   ],
   "source": [
    "with ITCH50MessageReader(file_path) as reader:\n",
    "    for message in reader:\n",
    "        processor.process_message(message)\n",
    "writer.close()"
   ]
  },
  {
   "cell_type": "code",
   "execution_count": null,
   "metadata": {},
   "outputs": [],
   "source": [
    "df = pd.read_parquet(outfile_path)\n",
    "\n",
    "df"
   ]
  }
 ],
 "metadata": {
  "kernelspec": {
   "display_name": "meatpy",
   "language": "python",
   "name": "python3"
  },
  "language_info": {
   "codemirror_mode": {
    "name": "ipython",
    "version": 3
   },
   "file_extension": ".py",
   "mimetype": "text/x-python",
   "name": "python",
   "nbconvert_exporter": "python",
   "pygments_lexer": "ipython3",
   "version": "3.13.0"
  }
 },
 "nbformat": 4,
 "nbformat_minor": 4
}
