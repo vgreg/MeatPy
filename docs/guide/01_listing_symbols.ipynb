{
 "cells": [
  {
   "cell_type": "markdown",
   "metadata": {},
   "source": [
    "# Listing Symbols in an ITCH 5.0 File\n",
    "\n",
    "This notebook shows how to extract all available symbols from an ITCH 5.0 file. To process ITCH 4.1 files, use the `itch41` module instead.\n",
    "\n",
    "The example uses a sample ITCH 5.0 file that should be placed in the `data/` subdirectory. You can download a [sample file](https://emi.nasdaq.com/ITCH/Nasdaq%20ITCH/) from Nasdaq."
   ]
  },
  {
   "cell_type": "code",
   "execution_count": 6,
   "metadata": {},
   "outputs": [
    {
     "name": "stdout",
     "output_type": "stream",
     "text": [
      "✅ Found sample file: data/S081321-v50.txt.gz\n",
      "File size: 4.55 GB\n"
     ]
    }
   ],
   "source": [
    "from pathlib import Path\n",
    "from meatpy.itch50 import ITCH50MessageReader\n",
    "\n",
    "# Define the path to our sample data file\n",
    "data_dir = Path(\"data\")\n",
    "file_path = data_dir / \"S081321-v50.txt.gz\"\n",
    "print(f\"✅ Found sample file: {file_path}\")\n",
    "print(f\"File size: {file_path.stat().st_size / (1024**3):.2f} GB\")"
   ]
  },
  {
   "cell_type": "code",
   "execution_count": 7,
   "metadata": {},
   "outputs": [
    {
     "name": "stdout",
     "output_type": "stream",
     "text": [
      "Reading ITCH file to extract symbols...\n",
      "Found 11096 symbols after processing 100,000 messages\n"
     ]
    }
   ],
   "source": [
    "symbols = set()\n",
    "message_count = 0\n",
    "\n",
    "print(\"Reading ITCH file to extract symbols...\")\n",
    "\n",
    "with ITCH50MessageReader(file_path) as reader:\n",
    "    for message in reader:\n",
    "        message_count += 1\n",
    "\n",
    "        # Stock Directory messages (type 'R') contain symbol information\n",
    "        if message.type == b\"R\":\n",
    "            symbol = message.stock.decode().strip()\n",
    "            symbols.add(symbol)\n",
    "\n",
    "        if message_count >= 100000:\n",
    "            break\n",
    "\n",
    "print(f\"Found {len(symbols)} symbols after processing {message_count:,} messages\")\n",
    "\n",
    "symbols = sorted(symbols)"
   ]
  },
  {
   "cell_type": "code",
   "execution_count": 8,
   "metadata": {},
   "outputs": [
    {
     "name": "stdout",
     "output_type": "stream",
     "text": [
      "First 20 symbols:\n",
      "A\n",
      "AA\n",
      "AAA\n",
      "AAAU\n",
      "AAC\n",
      "AAC+\n",
      "AAC=\n",
      "AACG\n",
      "AACIU\n",
      "AACOU\n",
      "AADR\n",
      "AAIC\n",
      "AAIC-B\n",
      "AAIC-C\n",
      "AAIN\n",
      "AAL\n",
      "AAMC\n",
      "AAME\n",
      "AAN\n",
      "AAOI\n"
     ]
    }
   ],
   "source": [
    "print(\"First 20 symbols:\")\n",
    "for symbol in symbols[:20]:\n",
    "    print(symbol)"
   ]
  },
  {
   "cell_type": "markdown",
   "metadata": {},
   "source": [
    "## Key Points\n",
    "\n",
    "- **Stock Directory Messages**: ITCH files begin with Stock Directory messages (type 'R') that contain symbol information\n",
    "- **Early Termination**: Since these messages appear at the beginning, we can stop reading after processing a reasonable number of messages (e.g., 100,000) to avoid unnecessary processing. _Note: This is not guaranteed in the specification._ \n",
    "- **Memory Efficiency**: This approach is memory-efficient for large files since we don't need to process the entire file\n",
    "- **Symbol Format**: ITCH symbols are 8-byte fields, padded with spaces, which we strip for display\n",
    "\n",
    "## Next Steps\n",
    "\n",
    "Once you have the list of symbols, you can:\n",
    "1. Filter the file to extract data for specific symbols of interest\n",
    "2. Process order book data for particular symbols\n",
    "3. Generate reports or visualizations for selected symbols"
   ]
  }
 ],
 "metadata": {
  "kernelspec": {
   "display_name": "meatpy",
   "language": "python",
   "name": "python3"
  },
  "language_info": {
   "codemirror_mode": {
    "name": "ipython",
    "version": 3
   },
   "file_extension": ".py",
   "mimetype": "text/x-python",
   "name": "python",
   "nbconvert_exporter": "python",
   "pygments_lexer": "ipython3",
   "version": "3.13.0"
  }
 },
 "nbformat": 4,
 "nbformat_minor": 4
}
