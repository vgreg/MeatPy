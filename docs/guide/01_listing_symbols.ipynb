{
 "cells": [
  {
   "cell_type": "markdown",
   "metadata": {},
   "source": [
    "# Listing Symbols in an ITCH 5.0 File\n",
    "\n",
    "This notebook shows how to extract all available symbols from an ITCH 5.0 file.\n",
    "\n",
    "The example uses a sample ITCH 5.0 file that should be placed in the `data/` subdirectory. Since these files can be very large (several GB), they are not included in the repository but should be provided separately."
   ]
  },
  {
   "cell_type": "code",
   "execution_count": 1,
   "metadata": {},
   "outputs": [
    {
     "name": "stdout",
     "output_type": "stream",
     "text": [
      "✅ Found sample file: data/S081321-v50.txt.gz\n",
      "File size: 4.55 GB\n"
     ]
    }
   ],
   "source": [
    "from pathlib import Path\n",
    "from meatpy.itch50 import ITCH50MessageReader\n",
    "\n",
    "# Define the path to our sample data file\n",
    "data_dir = Path(\"data\")\n",
    "file_path = data_dir / \"S081321-v50.txt.gz\"\n",
    "\n",
    "# Check if the file exists\n",
    "if not file_path.exists():\n",
    "    print(f\"❌ Sample file not found: {file_path}\")\n",
    "    print(\n",
    "        \"Please place an ITCH 5.0 file (e.g., S081321-v50.txt.gz) in the data/ directory\"\n",
    "    )\n",
    "else:\n",
    "    print(f\"✅ Found sample file: {file_path}\")\n",
    "    print(f\"File size: {file_path.stat().st_size / (1024**3):.2f} GB\")"
   ]
  },
  {
   "cell_type": "code",
   "execution_count": 2,
   "metadata": {},
   "outputs": [],
   "source": [
    "def list_symbols(file_path):\n",
    "    \"\"\"Extract all symbols from an ITCH 5.0 file.\n",
    "\n",
    "    Args:\n",
    "        file_path: Path to the ITCH 5.0 file\n",
    "\n",
    "    Returns:\n",
    "        sorted list of symbols found in the file\n",
    "    \"\"\"\n",
    "    symbols = set()\n",
    "    message_count = 0\n",
    "\n",
    "    print(\"Reading ITCH file to extract symbols...\")\n",
    "\n",
    "    with ITCH50MessageReader(file_path) as reader:\n",
    "        for message in reader:\n",
    "            message_count += 1\n",
    "\n",
    "            # Stock Directory messages (type 'R') contain symbol information\n",
    "            if message.type == b\"R\":\n",
    "                symbol = message.stock.decode().strip()\n",
    "                symbols.add(symbol)\n",
    "\n",
    "            # We can break early since all stock directory messages\n",
    "            # appear at the beginning of the file\n",
    "            elif len(symbols) > 0 and message.type != b\"R\":\n",
    "                # Once we've seen stock directory messages and encounter\n",
    "                # a different message type, we've likely seen all symbols\n",
    "                print(\n",
    "                    f\"Found {len(symbols)} symbols after processing {message_count:,} messages\"\n",
    "                )\n",
    "                break\n",
    "\n",
    "            # Progress indicator\n",
    "            if message_count % 100000 == 0:\n",
    "                print(\n",
    "                    f\"Processed {message_count:,} messages, found {len(symbols)} symbols so far...\"\n",
    "                )\n",
    "\n",
    "    return sorted(symbols)"
   ]
  },
  {
   "cell_type": "code",
   "execution_count": 3,
   "metadata": {},
   "outputs": [
    {
     "name": "stdout",
     "output_type": "stream",
     "text": [
      "Reading ITCH file to extract symbols...\n",
      "Found 92 symbols after processing 94 messages\n",
      "\n",
      "📊 Summary:\n",
      "Found 92 unique symbols in the file\n",
      "\n",
      "🔤 First 20 symbols:\n",
      "   1. A\n",
      "   2. AA\n",
      "   3. AAA\n",
      "   4. AAAU\n",
      "   5. AAC\n",
      "   6. AAC+\n",
      "   7. AAC=\n",
      "   8. AACG\n",
      "   9. AACIU\n",
      "  10. AACOU\n",
      "  11. AADR\n",
      "  12. AAIC\n",
      "  13. AAIC-B\n",
      "  14. AAIC-C\n",
      "  15. AAIN\n",
      "  16. AAL\n",
      "  17. AAMC\n",
      "  18. AAME\n",
      "  19. AAN\n",
      "  20. AAOI\n",
      "  ... and 72 more symbols\n",
      "\n",
      "🏆 Well-known symbols found:\n",
      "  ✓ AAPL\n"
     ]
    }
   ],
   "source": [
    "# Extract symbols from the file\n",
    "if file_path.exists():\n",
    "    symbols = list_symbols(file_path)\n",
    "\n",
    "    print(\"\\n📊 Summary:\")\n",
    "    print(f\"Found {len(symbols)} unique symbols in the file\")\n",
    "\n",
    "    # Display first 20 symbols\n",
    "    print(\"\\n🔤 First 20 symbols:\")\n",
    "    for i, symbol in enumerate(symbols[:20]):\n",
    "        print(f\"  {i + 1:2d}. {symbol}\")\n",
    "\n",
    "    if len(symbols) > 20:\n",
    "        print(f\"  ... and {len(symbols) - 20} more symbols\")\n",
    "\n",
    "    # Show some well-known symbols if they exist\n",
    "    well_known = [\"AAPL\", \"MSFT\", \"GOOGL\", \"AMZN\", \"TSLA\", \"SPY\", \"QQQ\"]\n",
    "    found_well_known = [s for s in well_known if s in symbols]\n",
    "\n",
    "    if found_well_known:\n",
    "        print(\"\\n🏆 Well-known symbols found:\")\n",
    "        for symbol in found_well_known:\n",
    "            print(f\"  ✓ {symbol}\")\n",
    "else:\n",
    "    print(\"⚠️  Cannot run example without sample data file\")"
   ]
  },
  {
   "cell_type": "markdown",
   "metadata": {},
   "source": [
    "## Key Points\n",
    "\n",
    "- **Stock Directory Messages**: ITCH files begin with Stock Directory messages (type 'R') that contain symbol information\n",
    "- **Early Termination**: Since these messages appear at the beginning, we can stop reading once we encounter other message types\n",
    "- **Memory Efficiency**: This approach is memory-efficient for large files since we don't need to process the entire file\n",
    "- **Symbol Format**: ITCH symbols are 8-byte fields, often padded with spaces, which we strip for display\n",
    "\n",
    "## Next Steps\n",
    "\n",
    "Once you have the list of symbols, you can:\n",
    "1. Filter the file to extract data for specific symbols of interest\n",
    "2. Process order book data for particular symbols\n",
    "3. Generate reports or visualizations for selected symbols"
   ]
  }
 ],
 "metadata": {
  "kernelspec": {
   "display_name": "Python 3",
   "language": "python",
   "name": "python3"
  },
  "language_info": {
   "codemirror_mode": {
    "name": "ipython",
    "version": 3
   },
   "file_extension": ".py",
   "mimetype": "text/x-python",
   "name": "python",
   "nbconvert_exporter": "python",
   "pygments_lexer": "ipython3",
   "version": "3.13.0"
  }
 },
 "nbformat": 4,
 "nbformat_minor": 4
}
