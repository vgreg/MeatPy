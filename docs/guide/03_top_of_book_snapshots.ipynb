{
 "cells": [
  {
   "cell_type": "markdown",
   "metadata": {},
   "source": [
    "# Top of Book Snapshots at One-Minute Intervals\n",
    "\n",
    "This notebook demonstrates how to capture best bid and ask prices at regular intervals from ITCH 5.0 data.\n",
    "\n",
    "Top of book snapshots are useful for:\n",
    "- Creating time series of bid-ask spreads\n",
    "- Analyzing price movements over time\n",
    "- Calculating mid-price evolution\n",
    "\n",
    "This example uses the `S081321-v50-AAPL-SPY.itch50.gz` file generated in the [Extracting Symbols](02_extracting_symbols.ipynb) example."
   ]
  },
  {
   "cell_type": "code",
   "execution_count": null,
   "metadata": {},
   "outputs": [],
   "source": [
    "from pathlib import Path\n",
    "import datetime\n",
    "import pandas as pd\n",
    "from meatpy.itch50 import ITCH50MessageReader, ITCH50MarketProcessor\n",
    "from meatpy.event_handlers.lob_recorder import LOBRecorder\n",
    "from meatpy.writers.parquet_writer import ParquetWriter\n",
    "\n",
    "# Define paths and parameters\n",
    "data_dir = Path(\"data\")\n",
    "\n",
    "file_path = data_dir / \"S081321-v50-AAPL-SPY.itch50.gz\"\n",
    "outfile_path = data_dir / \"spy_tob.parquet\"\n",
    "book_date = datetime.datetime(2021, 8, 13)\n",
    "\n",
    "\n",
    "with ITCH50MessageReader(file_path) as reader, ParquetWriter(outfile_path) as writer:\n",
    "    processor = ITCH50MarketProcessor(\"SPY\", book_date)\n",
    "\n",
    "    # We only care about the top of book\n",
    "    tob_recorder = LOBRecorder(writer=writer, max_depth=1)\n",
    "    # Generate a list of timedeltas from 9:30 to 16:00 (inclusive) in 1-minute increments\n",
    "    market_open = book_date + datetime.timedelta(hours=9, minutes=30)\n",
    "    market_close = book_date + datetime.timedelta(hours=16, minutes=0)\n",
    "    record_timestamps = [market_open + datetime.timedelta(minutes=i) \n",
    "                     for i in range(int((market_close - market_open).total_seconds() // 60) + 1)]\n",
    "    tob_recorder.record_timestamps = record_timestamps\n",
    "\n",
    "    # Attach the recorders to the processor\n",
    "    processor.handlers.append(tob_recorder)\n",
    "\n",
    "    for message in reader:\n",
    "        processor.process_message(message)"
   ]
  },
  {
   "cell_type": "code",
   "execution_count": 2,
   "metadata": {},
   "outputs": [
    {
     "data": {
      "application/vnd.microsoft.datawrangler.viewer.v0+json": {
       "columns": [
        {
         "name": "index",
         "rawType": "int64",
         "type": "integer"
        },
        {
         "name": "Timestamp",
         "rawType": "object",
         "type": "string"
        },
        {
         "name": "Type",
         "rawType": "object",
         "type": "string"
        },
        {
         "name": "Level",
         "rawType": "int64",
         "type": "integer"
        },
        {
         "name": "Price",
         "rawType": "float64",
         "type": "float"
        },
        {
         "name": "Volume",
         "rawType": "int64",
         "type": "integer"
        },
        {
         "name": "N Orders",
         "rawType": "int64",
         "type": "integer"
        }
       ],
       "ref": "eefa00be-fb43-41a1-887b-effc4f1a4d45",
       "rows": [
        [
         "0",
         "2021-08-13 09:30:00",
         "Ask",
         "1",
         "445.22",
         "300",
         "3"
        ],
        [
         "1",
         "2021-08-13 09:30:00",
         "Bid",
         "1",
         "445.68",
         "4200",
         "4"
        ],
        [
         "2",
         "2021-08-13 09:31:00",
         "Ask",
         "1",
         "445.22",
         "300",
         "3"
        ],
        [
         "3",
         "2021-08-13 09:31:00",
         "Bid",
         "1",
         "445.68",
         "4200",
         "4"
        ],
        [
         "4",
         "2021-08-13 09:32:00",
         "Ask",
         "1",
         "445.22",
         "300",
         "3"
        ],
        [
         "5",
         "2021-08-13 09:32:00",
         "Bid",
         "1",
         "445.68",
         "4200",
         "4"
        ],
        [
         "6",
         "2021-08-13 09:33:00",
         "Ask",
         "1",
         "445.22",
         "300",
         "3"
        ],
        [
         "7",
         "2021-08-13 09:33:00",
         "Bid",
         "1",
         "445.68",
         "4200",
         "4"
        ],
        [
         "8",
         "2021-08-13 09:34:00",
         "Ask",
         "1",
         "445.22",
         "300",
         "3"
        ],
        [
         "9",
         "2021-08-13 09:34:00",
         "Bid",
         "1",
         "445.68",
         "4200",
         "4"
        ]
       ],
       "shape": {
        "columns": 6,
        "rows": 10
       }
      },
      "text/html": [
       "<div>\n",
       "<style scoped>\n",
       "    .dataframe tbody tr th:only-of-type {\n",
       "        vertical-align: middle;\n",
       "    }\n",
       "\n",
       "    .dataframe tbody tr th {\n",
       "        vertical-align: top;\n",
       "    }\n",
       "\n",
       "    .dataframe thead th {\n",
       "        text-align: right;\n",
       "    }\n",
       "</style>\n",
       "<table border=\"1\" class=\"dataframe\">\n",
       "  <thead>\n",
       "    <tr style=\"text-align: right;\">\n",
       "      <th></th>\n",
       "      <th>Timestamp</th>\n",
       "      <th>Type</th>\n",
       "      <th>Level</th>\n",
       "      <th>Price</th>\n",
       "      <th>Volume</th>\n",
       "      <th>N Orders</th>\n",
       "    </tr>\n",
       "  </thead>\n",
       "  <tbody>\n",
       "    <tr>\n",
       "      <th>0</th>\n",
       "      <td>2021-08-13 09:30:00</td>\n",
       "      <td>Ask</td>\n",
       "      <td>1</td>\n",
       "      <td>445.22</td>\n",
       "      <td>300</td>\n",
       "      <td>3</td>\n",
       "    </tr>\n",
       "    <tr>\n",
       "      <th>1</th>\n",
       "      <td>2021-08-13 09:30:00</td>\n",
       "      <td>Bid</td>\n",
       "      <td>1</td>\n",
       "      <td>445.68</td>\n",
       "      <td>4200</td>\n",
       "      <td>4</td>\n",
       "    </tr>\n",
       "    <tr>\n",
       "      <th>2</th>\n",
       "      <td>2021-08-13 09:31:00</td>\n",
       "      <td>Ask</td>\n",
       "      <td>1</td>\n",
       "      <td>445.22</td>\n",
       "      <td>300</td>\n",
       "      <td>3</td>\n",
       "    </tr>\n",
       "    <tr>\n",
       "      <th>3</th>\n",
       "      <td>2021-08-13 09:31:00</td>\n",
       "      <td>Bid</td>\n",
       "      <td>1</td>\n",
       "      <td>445.68</td>\n",
       "      <td>4200</td>\n",
       "      <td>4</td>\n",
       "    </tr>\n",
       "    <tr>\n",
       "      <th>4</th>\n",
       "      <td>2021-08-13 09:32:00</td>\n",
       "      <td>Ask</td>\n",
       "      <td>1</td>\n",
       "      <td>445.22</td>\n",
       "      <td>300</td>\n",
       "      <td>3</td>\n",
       "    </tr>\n",
       "    <tr>\n",
       "      <th>5</th>\n",
       "      <td>2021-08-13 09:32:00</td>\n",
       "      <td>Bid</td>\n",
       "      <td>1</td>\n",
       "      <td>445.68</td>\n",
       "      <td>4200</td>\n",
       "      <td>4</td>\n",
       "    </tr>\n",
       "    <tr>\n",
       "      <th>6</th>\n",
       "      <td>2021-08-13 09:33:00</td>\n",
       "      <td>Ask</td>\n",
       "      <td>1</td>\n",
       "      <td>445.22</td>\n",
       "      <td>300</td>\n",
       "      <td>3</td>\n",
       "    </tr>\n",
       "    <tr>\n",
       "      <th>7</th>\n",
       "      <td>2021-08-13 09:33:00</td>\n",
       "      <td>Bid</td>\n",
       "      <td>1</td>\n",
       "      <td>445.68</td>\n",
       "      <td>4200</td>\n",
       "      <td>4</td>\n",
       "    </tr>\n",
       "    <tr>\n",
       "      <th>8</th>\n",
       "      <td>2021-08-13 09:34:00</td>\n",
       "      <td>Ask</td>\n",
       "      <td>1</td>\n",
       "      <td>445.22</td>\n",
       "      <td>300</td>\n",
       "      <td>3</td>\n",
       "    </tr>\n",
       "    <tr>\n",
       "      <th>9</th>\n",
       "      <td>2021-08-13 09:34:00</td>\n",
       "      <td>Bid</td>\n",
       "      <td>1</td>\n",
       "      <td>445.68</td>\n",
       "      <td>4200</td>\n",
       "      <td>4</td>\n",
       "    </tr>\n",
       "  </tbody>\n",
       "</table>\n",
       "</div>"
      ],
      "text/plain": [
       "             Timestamp Type  Level   Price  Volume  N Orders\n",
       "0  2021-08-13 09:30:00  Ask      1  445.22     300         3\n",
       "1  2021-08-13 09:30:00  Bid      1  445.68    4200         4\n",
       "2  2021-08-13 09:31:00  Ask      1  445.22     300         3\n",
       "3  2021-08-13 09:31:00  Bid      1  445.68    4200         4\n",
       "4  2021-08-13 09:32:00  Ask      1  445.22     300         3\n",
       "5  2021-08-13 09:32:00  Bid      1  445.68    4200         4\n",
       "6  2021-08-13 09:33:00  Ask      1  445.22     300         3\n",
       "7  2021-08-13 09:33:00  Bid      1  445.68    4200         4\n",
       "8  2021-08-13 09:34:00  Ask      1  445.22     300         3\n",
       "9  2021-08-13 09:34:00  Bid      1  445.68    4200         4"
      ]
     },
     "execution_count": 2,
     "metadata": {},
     "output_type": "execute_result"
    }
   ],
   "source": [
    "pd.read_parquet(outfile_path).head(10)"
   ]
  }
 ],
 "metadata": {
  "kernelspec": {
   "display_name": "meatpy",
   "language": "python",
   "name": "python3"
  },
  "language_info": {
   "codemirror_mode": {
    "name": "ipython",
    "version": 3
   },
   "file_extension": ".py",
   "mimetype": "text/x-python",
   "name": "python",
   "nbconvert_exporter": "python",
   "pygments_lexer": "ipython3",
   "version": "3.13.0"
  }
 },
 "nbformat": 4,
 "nbformat_minor": 4
}
