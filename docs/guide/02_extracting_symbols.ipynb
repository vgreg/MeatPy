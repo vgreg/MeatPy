{
 "cells": [
  {
   "cell_type": "markdown",
   "metadata": {},
   "source": [
    "# Extracting Specific Symbols\n",
    "\n",
    "This notebook demonstrates how to create a new ITCH file containing only data for specific symbols of interest.\n",
    "\n",
    "Filtering large ITCH files to specific symbols can significantly reduce file size and processing time for analysis focused on particular securities. It is also useful for parallel processing, where each process can handle a subset of symbols."
   ]
  },
  {
   "cell_type": "code",
   "execution_count": null,
   "metadata": {},
   "outputs": [
    {
     "name": "stdout",
     "output_type": "stream",
     "text": [
      "Input file size: 4.55 GB\n"
     ]
    }
   ],
   "source": [
    "from pathlib import Path\n",
    "from meatpy.itch50 import ITCH50MessageReader, ITCH50Writer\n",
    "\n",
    "# Define paths\n",
    "data_dir = Path(\"data\")\n",
    "input_file = data_dir / \"S081321-v50.txt.gz\"\n",
    "output_file = data_dir / \"S081321-v50-AAPL-SPY.itch50.gz\"\n",
    "\n",
    "# Symbols we want to extract\n",
    "target_symbols = [\"AAPL\", \"SPY\"]\n",
    "\n",
    "input_size_gb = input_file.stat().st_size / (1024**3)\n",
    "print(f\"Input file size: {input_size_gb:.2f} GB\")"
   ]
  },
  {
   "cell_type": "code",
   "execution_count": 5,
   "metadata": {},
   "outputs": [
    {
     "name": "stdout",
     "output_type": "stream",
     "text": [
      "Total messages processed: 367,986,583\n"
     ]
    }
   ],
   "source": [
    "# This takes about 10 minutes on a MacBook Pro M3 Max\n",
    "message_count = 0\n",
    "with ITCH50MessageReader(input_file) as reader:\n",
    "    with ITCH50Writer(output_file, symbols=target_symbols) as writer:\n",
    "        for message in reader:\n",
    "            message_count += 1\n",
    "            writer.process_message(message)\n",
    "                \n",
    "print(f\"Total messages processed: {message_count:,}\")\n"
   ]
  },
  {
   "cell_type": "code",
   "execution_count": 6,
   "metadata": {},
   "outputs": [
    {
     "name": "stdout",
     "output_type": "stream",
     "text": [
      "Total messages in filtered file: 4,503,791\n",
      "Output file size: 0.13 GB\n"
     ]
    }
   ],
   "source": [
    "new_message_count = 0\n",
    "with ITCH50MessageReader(output_file) as reader:\n",
    "    for message in reader:\n",
    "        new_message_count += 1\n",
    "\n",
    "print(f\"Total messages in filtered file: {new_message_count:,}\")\n",
    "output_size_gb = output_file.stat().st_size / (1024**3)\n",
    "print(f\"Output file size: {output_size_gb:.2f} GB\")"
   ]
  },
  {
   "cell_type": "markdown",
   "metadata": {},
   "source": [
    "## Key Points\n",
    "\n",
    "- **Processing Speed**: Smaller filtered files process much faster for subsequent analysis. If your analysis only requires data for a few symbols, filtering out the rest can save significant time for downstream tasks.\n",
    "- **Output Format**: The output is a valid ITCH 5.0 file that can be processed by any ITCH-compatible tool\n",
    "\n",
    "## Performance Tips\n",
    "\n",
    "- **Early Filtering**: Filter as early as possible in your data pipeline to reduce downstream processing time\n",
    "- **Multiple Symbols**: You can filter for multiple symbols in a single pass\n",
    "- **Memory Usage**: The ITCH50Writer buffers data efficiently to minimize memory usage during filtering\n",
    "\n",
    "## Next Steps\n",
    "\n",
    "With your filtered file, you can now:\n",
    "1. Process order book data much faster\n",
    "2. Generate snapshots at regular intervals\n",
    "3. Calculate trading metrics and statistics\n",
    "4. Create visualizations and reports"
   ]
  },
  {
   "cell_type": "markdown",
   "metadata": {},
   "source": []
  }
 ],
 "metadata": {
  "kernelspec": {
   "display_name": "meatpy",
   "language": "python",
   "name": "python3"
  },
  "language_info": {
   "codemirror_mode": {
    "name": "ipython",
    "version": 3
   },
   "file_extension": ".py",
   "mimetype": "text/x-python",
   "name": "python",
   "nbconvert_exporter": "python",
   "pygments_lexer": "ipython3",
   "version": "3.13.0"
  }
 },
 "nbformat": 4,
 "nbformat_minor": 4
}
